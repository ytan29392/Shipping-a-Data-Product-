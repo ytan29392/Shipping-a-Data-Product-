{
 "cells": [
  {
   "cell_type": "markdown",
   "id": "388081a8",
   "metadata": {},
   "source": [
    "Load json"
   ]
  },
  {
   "cell_type": "code",
   "execution_count": null,
   "id": "edc853e6",
   "metadata": {},
   "outputs": [],
   "source": [
    "from scripts.load_to_postgres import load_json_to_postgres\n",
    "\n",
    "folder_path = \"data/raw/telegram_messages/2025-07-14\"\n",
    "load_json_to_postgres(folder_path)"
   ]
  }
 ],
 "metadata": {
  "kernelspec": {
   "display_name": ".env",
   "language": "python",
   "name": "python3"
  },
  "language_info": {
   "name": "python",
   "version": "3.11.9"
  }
 },
 "nbformat": 4,
 "nbformat_minor": 5
}
