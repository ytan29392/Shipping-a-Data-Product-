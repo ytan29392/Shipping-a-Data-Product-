{
 "cells": [
  {
   "cell_type": "markdown",
   "id": "60d8f0c3",
   "metadata": {},
   "source": [
    "Import"
   ]
  },
  {
   "cell_type": "code",
   "execution_count": 2,
   "id": "cef69d6b",
   "metadata": {},
   "outputs": [
    {
     "ename": "TypeError",
     "evalue": "int() argument must be a string, a bytes-like object or a real number, not 'NoneType'",
     "output_type": "error",
     "traceback": [
      "\u001b[31m---------------------------------------------------------------------------\u001b[39m",
      "\u001b[31mTypeError\u001b[39m                                 Traceback (most recent call last)",
      "\u001b[36mCell\u001b[39m\u001b[36m \u001b[39m\u001b[32mIn[2]\u001b[39m\u001b[32m, line 4\u001b[39m\n\u001b[32m      1\u001b[39m \u001b[38;5;28;01mimport\u001b[39;00m\u001b[38;5;250m \u001b[39m\u001b[34;01msys\u001b[39;00m\n\u001b[32m      2\u001b[39m sys.path.append(\u001b[33m\"\u001b[39m\u001b[33m../src\u001b[39m\u001b[33m\"\u001b[39m)\n\u001b[32m----> \u001b[39m\u001b[32m4\u001b[39m \u001b[38;5;28;01mfrom\u001b[39;00m\u001b[38;5;250m \u001b[39m\u001b[34;01mtelegram_scraper\u001b[39;00m\u001b[38;5;250m \u001b[39m\u001b[38;5;28;01mimport\u001b[39;00m scrape_telegram_channels\n",
      "\u001b[36mFile \u001b[39m\u001b[32mc:\\KAIM project\\Shipping data product w-7\\notebooks\\../src\\telegram_scraper.py:11\u001b[39m\n\u001b[32m      9\u001b[39m \u001b[38;5;66;03m# Load credentials\u001b[39;00m\n\u001b[32m     10\u001b[39m load_dotenv()\n\u001b[32m---> \u001b[39m\u001b[32m11\u001b[39m API_ID = \u001b[38;5;28;43mint\u001b[39;49m\u001b[43m(\u001b[49m\u001b[43mos\u001b[49m\u001b[43m.\u001b[49m\u001b[43mgetenv\u001b[49m\u001b[43m(\u001b[49m\u001b[33;43m\"\u001b[39;49m\u001b[33;43mTELEGRAM_API_ID\u001b[39;49m\u001b[33;43m\"\u001b[39;49m\u001b[43m)\u001b[49m\u001b[43m)\u001b[49m\n\u001b[32m     12\u001b[39m API_HASH = os.getenv(\u001b[33m\"\u001b[39m\u001b[33mTELEGRAM_API_HASH\u001b[39m\u001b[33m\"\u001b[39m)\n\u001b[32m     14\u001b[39m \u001b[38;5;28;01mdef\u001b[39;00m\u001b[38;5;250m \u001b[39m\u001b[34mscrape_telegram_channels\u001b[39m(channels: \u001b[38;5;28mlist\u001b[39m, limit=\u001b[32m100\u001b[39m):\n",
      "\u001b[31mTypeError\u001b[39m: int() argument must be a string, a bytes-like object or a real number, not 'NoneType'"
     ]
    }
   ],
   "source": [
    "import sys\n",
    "sys.path.append(\"../src\")\n",
    "\n",
    "from telegram_scraper import scrape_telegram_channels"
   ]
  },
  {
   "cell_type": "markdown",
   "id": "26f974d3",
   "metadata": {},
   "source": [
    "Scrap"
   ]
  },
  {
   "cell_type": "code",
   "execution_count": null,
   "id": "d4e5a4f8",
   "metadata": {},
   "outputs": [],
   "source": [
    "channels = [\n",
    "    \"https://t.me/lobelia4cosmetics\",\n",
    "    \"https://t.me/tikvahpharma\"\n",
    "]\n",
    "\n",
    "results = scrape_telegram_channels(channels, limit=50)"
   ]
  }
 ],
 "metadata": {
  "kernelspec": {
   "display_name": ".env",
   "language": "python",
   "name": "python3"
  },
  "language_info": {
   "codemirror_mode": {
    "name": "ipython",
    "version": 3
   },
   "file_extension": ".py",
   "mimetype": "text/x-python",
   "name": "python",
   "nbconvert_exporter": "python",
   "pygments_lexer": "ipython3",
   "version": "3.11.9"
  }
 },
 "nbformat": 4,
 "nbformat_minor": 5
}
